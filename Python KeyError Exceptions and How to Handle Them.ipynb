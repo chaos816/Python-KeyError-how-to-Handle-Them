{
 "cells": [
  {
   "cell_type": "code",
   "execution_count": 4,
   "id": "2e32d4c6-9a51-43cd-b522-7e8f58ac5827",
   "metadata": {},
   "outputs": [
    {
     "ename": "IndentationError",
     "evalue": "unexpected indent (temp/ipykernel_72/818155891.py, line 8)",
     "output_type": "error",
     "traceback": [
      "\u001b[1;36m  File \u001b[1;32m\"C:\\PROGRA~1\\KMSpico\\temp/ipykernel_72/818155891.py\"\u001b[1;36m, line \u001b[1;32m8\u001b[0m\n\u001b[1;33m    File \"<stdin>\", line 1, in <module>\u001b[0m\n\u001b[1;37m    ^\u001b[0m\n\u001b[1;31mIndentationError\u001b[0m\u001b[1;31m:\u001b[0m unexpected indent\n"
     ]
    }
   ],
   "source": [
    "#The Python KeyError is a type of LookupError exception and denotes that there was an issue retrieving the key you were looking for. When you see a KeyError, the semantic meaning is that the key being looked for could not be found.\n",
    "\n",
    "#In the example below, you can see a dictionary (ages) defined with the ages of three people. When you try to access a key that is not in the dictionary, a KeyError is raised:\n",
    "    \n",
    "ages = {'alaa': 22, 'walid': 28, 'amine': 33}\n",
    "ages['alaa']\n",
    "#Traceback (most recent call last):\n",
    "  File \"<stdin>\", line 1, in <module>\n",
    "KeyError: 'walid'\n",
    "\n",
    "#In the program below, you can see the ages dictionary defined again. This time, you will be prompted to provide the name of the person to retrieve the age for:\n",
    "\n",
    "# ages.py\n",
    "\n",
    "ages = {'alaa': 22, 'walid': 28, 'amine': 33}\n",
    "person = input('Get age for: ')\n",
    "print(f'{person} is {ages[person]} years old.')\n",
    "\n",
    "#Repeating the failed example from above, we get another traceback, this time with information about the line in the file that the KeyError is raised from:\n",
    "  \n",
    "python = ages.py\n",
    "Get age for: Michael\n",
    "Traceback (most recent call last):\n",
    "File \"ages.py\", line 4, in <module>\n",
    "  print(f'{person} is {ages[person]} years old.')\n",
    "KeyError: 'alaa'\n",
    "\n",
    "#In the following example, you can see using the zipfile.ZipFile class to extract information about a ZIP archive using .getinfo():\n",
    "\n",
    "     from zipfile import ZipFile\n",
    "     zip_file = ZipFile('the_zip_file.zip')\n",
    "     zip_file.getinfo('something')\n",
    "    \n",
    "Traceback (most recent call last):\n",
    "File \"<stdin>\", line 1, in <module>\n",
    "\n",
    "File \"/path/to/python/installation/zipfile.py\", line 1304, in getinfo\n",
    "  'There is no item named %r in the archive' % name)\n",
    "KeyError: \"There is no item named 'something' in the archive\"\n"
   ]
  },
  {
   "cell_type": "code",
   "execution_count": null,
   "id": "c7e65cce-683f-46e4-b1ec-f38707e090db",
   "metadata": {},
   "outputs": [],
   "source": []
  }
 ],
 "metadata": {
  "kernelspec": {
   "display_name": "Python 3 (ipykernel)",
   "language": "python",
   "name": "python3"
  },
  "language_info": {
   "codemirror_mode": {
    "name": "ipython",
    "version": 3
   },
   "file_extension": ".py",
   "mimetype": "text/x-python",
   "name": "python",
   "nbconvert_exporter": "python",
   "pygments_lexer": "ipython3",
   "version": "3.9.7"
  }
 },
 "nbformat": 4,
 "nbformat_minor": 5
}
